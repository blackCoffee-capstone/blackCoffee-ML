{
 "cells": [
  {
   "cell_type": "code",
   "execution_count": 8,
   "metadata": {},
   "outputs": [],
   "source": [
    "import pandas as pd\n",
    "import json\n",
    "import sys\n",
    "from analyzer import Analyzer\n",
    "from utils import Parser\n",
    "\n",
    "import matplotlib\n",
    "import matplotlib.pyplot as plt\n",
    "import numpy as np\n",
    "import sklearn\n",
    "from sklearn.linear_model import LinearRegression\n",
    "import scipy.stats as stats"
   ]
  },
  {
   "cell_type": "code",
   "execution_count": 2,
   "metadata": {},
   "outputs": [
    {
     "name": "stdout",
     "output_type": "stream",
     "text": [
      "[2022114, 2022121, 2022122]\n"
     ]
    }
   ],
   "source": [
    "input_file_path = \"data/rank-input.json\"\n",
    "\n",
    "my_parser = Parser()\n",
    "df = my_parser.read_json_make_dataframe(input_path= input_file_path)\n",
    "\n",
    "my_analyzer = Analyzer(df)\n",
    "print(my_analyzer.list_of_weeks)\n",
    "\n",
    "\n",
    "final_list = []\n",
    "\n",
    "last_Week = my_analyzer.list_of_weeks[-1]\n",
    "weekly_dict =  {\n",
    "    \"week\" : int(last_Week),\n",
    "    \"ranks\" : my_analyzer.calculate_trend_rank(last_Week) \n",
    "}\n",
    "final_list.append(weekly_dict)\n"
   ]
  },
  {
   "cell_type": "code",
   "execution_count": 3,
   "metadata": {},
   "outputs": [],
   "source": [
    "\n",
    "def show_regression_score(\n",
    "    week : int,\n",
    "    spot_id : int,\n",
    "    analyzer : Analyzer\n",
    "):\n",
    "\n",
    "    last_week_index = analyzer.list_of_weeks.index(week)\n",
    "    weekly_statistics = analyzer.get_weekly_statistics()\n",
    "    list_of_weeks    = analyzer.list_of_weeks\n",
    "    list_of_spot_ids = analyzer.data.spot_id.unique()\n",
    "\n",
    "    spot_weekly_trend = weekly_statistics[spot_id]\n",
    "    spot_weekly_trend = analyzer._fill_in_spot_weekly_trends(spot_weekly_trend)\n",
    "\n",
    "\n",
    "    X = np.array(list(range(1, len(list_of_weeks)+1))[:last_week_index])\n",
    "    X = X.reshape(-1, 1)\n",
    "    y = spot_weekly_trend.iloc[:last_week_index]\n",
    "\n",
    "    model = LinearRegression()\n",
    "    model.fit(X = X, y = y)\n",
    "\n",
    "    x_pred = np.linspace(0, 40, 200)            # 200 data points between 0 ~ 40\n",
    "    x_pred = x_pred.reshape(-1, 1)  # preprocessing required by scikit-learn functions\n",
    "\n",
    "    y_pred = model.predict(x_pred)\n",
    "\n",
    "    y_true = spot_weekly_trend[list_of_weeks[last_week_index]]\n",
    "\n",
    "    plt.style.use('default')\n",
    "    plt.style.use('ggplot')\n",
    "\n",
    "    fig, ax = plt.subplots(figsize=(7, 3.5))\n",
    "\n",
    "    ax.plot(x_pred, y_pred, color='k', label='Regression model')\n",
    "    ax.scatter(X, y, edgecolor='k', facecolor='grey', alpha=0.7, label='Previous data')\n",
    "    ax.scatter(list(range(1, len(list_of_weeks)+1))[last_week_index], y_true, edgecolor='k', facecolor='red', alpha=0.7, label='This week data')\n",
    "    ax.set_ylabel('like Number', fontsize=14)\n",
    "    ax.set_xlabel('Week', fontsize=14)\n",
    "    ax.legend(facecolor='white', fontsize=11)\n",
    "    ax.text(0.55, 0.15, '$y = %.2f x_1 - %.2f $' % (model.coef_[0], abs(model.intercept_)), fontsize=17, transform=ax.transAxes)\n",
    "\n",
    "    fig.tight_layout()\n",
    "    plt.show()\n",
    "    \n",
    "    return "
   ]
  },
  {
   "cell_type": "code",
   "execution_count": 18,
   "metadata": {},
   "outputs": [],
   "source": [
    "def show_z_score(\n",
    "    week : int,\n",
    "    spot_id : int,\n",
    "    analyzer : Analyzer\n",
    "):\n",
    "    \n",
    "    last_week_index = analyzer.list_of_weeks.index(week)\n",
    "    weekly_statistics = analyzer.get_weekly_statistics()\n",
    "    list_of_weeks    = analyzer.list_of_weeks\n",
    "    list_of_spot_ids = analyzer.data.spot_id.unique()\n",
    "\n",
    "    spot_weekly_trend = weekly_statistics[spot_id]\n",
    "    spot_weekly_trend = analyzer._fill_in_spot_weekly_trends(spot_weekly_trend)\n",
    "\n",
    "\n",
    "    X = np.array(list(range(1, len(list_of_weeks)+1))[:last_week_index])\n",
    "    X = X.reshape(-1, 1)\n",
    "    y = spot_weekly_trend.iloc[:last_week_index]\n",
    "\n",
    "    mean = np.mean(y)\n",
    "    std = np.std(y)\n",
    "\n",
    "    if std == 0:\n",
    "        print(\"No Distribution\")\n",
    "        return\n",
    "\n",
    "    y_true = spot_weekly_trend[list_of_weeks[last_week_index]]\n",
    "    z_score = (y_true - mean) / (std + sys.float_info.epsilon)\n",
    "\n",
    "    x_pred = np.linspace(mean - 3*std, mean + 3*std, 100)          # 200 data points between 0 ~ 40\n",
    "    x_pred = x_pred.reshape(-1, 1)  # preprocessing required by scikit-learn functions\n",
    "\n",
    "    \n",
    "\n",
    "    plt.style.use('default')\n",
    "    plt.style.use('ggplot')\n",
    "\n",
    "\n",
    "    fig, ax = plt.subplots(figsize=(7, 3.5))\n",
    "\n",
    "    ax.plot(x_pred, stats.norm.pdf(x_pred, mean, std))\n",
    "    #ax.scatter(z_score, y_true, edgecolor='k', facecolor='red', alpha=0.7, label='This week data')\n",
    "\n",
    "    ax.legend(facecolor='white', fontsize=11)\n",
    "    ax.text(0.55, 0.15, '$mean = %.2f std =%.2f $' % (mean, std ), fontsize=17, transform=ax.transAxes)\n",
    "\n",
    "    fig.tight_layout()\n",
    "    plt.show()\n",
    "    \n",
    "    return"
   ]
  },
  {
   "cell_type": "code",
   "execution_count": 19,
   "metadata": {},
   "outputs": [
    {
     "name": "stdout",
     "output_type": "stream",
     "text": [
      "No Distribution\n"
     ]
    }
   ],
   "source": [
    "show_z_score(2022122 ,259, my_analyzer)"
   ]
  },
  {
   "cell_type": "code",
   "execution_count": 24,
   "metadata": {},
   "outputs": [
    {
     "data": {
      "image/png": "[encoded data removed]",
      "text/plain": [
       "<Figure size 700x350 with 1 Axes>"
      ]
     },
     "metadata": {},
     "output_type": "display_data"
    }
   ],
   "source": [
    "\n",
    "show_regression_score(2022122 ,347, my_analyzer)"
   ]
  }
 ],
 "metadata": {
  "kernelspec": {
   "display_name": "test0",
   "language": "python",
   "name": "python3"
  },
  "language_info": {
   "codemirror_mode": {
    "name": "ipython",
    "version": 3
   },
   "file_extension": ".py",
   "mimetype": "text/x-python",
   "name": "python",
   "nbconvert_exporter": "python",
   "pygments_lexer": "ipython3",
   "version": "3.10.4"
  },
  "orig_nbformat": 4,
  "vscode": {
   "interpreter": {
    "hash": "3fb28e5f60ac0a265781860a4d5d777f52aa041c474fb0eb8d4ca69097da525c"
   }
  }
 },
 "nbformat": 4,
 "nbformat_minor": 2
}
